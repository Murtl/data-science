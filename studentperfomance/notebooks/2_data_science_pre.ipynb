{
 "cells": [
  {
   "cell_type": "code",
   "execution_count": 1,
   "id": "31526dee-88c1-463d-aa93-13ab13d75d6e",
   "metadata": {},
   "outputs": [
    {
     "data": {
      "text/html": [
       "<pre style=\"white-space:pre;overflow-x:auto;line-height:normal;font-family:Menlo,'DejaVu Sans Mono',consolas,'Courier New',monospace\"><span style=\"color: #7fbfbf; text-decoration-color: #7fbfbf\">                    </span><span style=\"color: #000080; text-decoration-color: #000080\">INFO    </span> Resolved project path as:                                              <a href=\"file://C:\\Users\\michi\\anaconda3\\envs\\autogluon-env\\Lib\\site-packages\\kedro\\ipython\\__init__.py\" target=\"_blank\"><span style=\"color: #7f7f7f; text-decoration-color: #7f7f7f\">__init__.py</span></a><span style=\"color: #7f7f7f; text-decoration-color: #7f7f7f\">:</span><a href=\"file://C:\\Users\\michi\\anaconda3\\envs\\autogluon-env\\Lib\\site-packages\\kedro\\ipython\\__init__.py#178\" target=\"_blank\"><span style=\"color: #7f7f7f; text-decoration-color: #7f7f7f\">178</span></a>\n",
       "<span style=\"color: #7fbfbf; text-decoration-color: #7fbfbf\">                    </span>         C:\\Users\\michi\\Repos\\own\\data-science\\studentperfomance.               <span style=\"color: #7f7f7f; text-decoration-color: #7f7f7f\">               </span>\n",
       "<span style=\"color: #7fbfbf; text-decoration-color: #7fbfbf\">                    </span>         To set a different path, run <span style=\"color: #008000; text-decoration-color: #008000\">'%reload_kedro &lt;project_root&gt;'</span>            <span style=\"color: #7f7f7f; text-decoration-color: #7f7f7f\">               </span>\n",
       "</pre>\n"
      ],
      "text/plain": [
       "\u001b[2;36m                   \u001b[0m\u001b[2;36m \u001b[0m\u001b[34mINFO    \u001b[0m Resolved project path as:                                              \u001b]8;id=53618;file://C:\\Users\\michi\\anaconda3\\envs\\autogluon-env\\Lib\\site-packages\\kedro\\ipython\\__init__.py\u001b\\\u001b[2m__init__.py\u001b[0m\u001b]8;;\u001b\\\u001b[2m:\u001b[0m\u001b]8;id=779203;file://C:\\Users\\michi\\anaconda3\\envs\\autogluon-env\\Lib\\site-packages\\kedro\\ipython\\__init__.py#178\u001b\\\u001b[2m178\u001b[0m\u001b]8;;\u001b\\\n",
       "\u001b[2;36m                    \u001b[0m         C:\\Users\\michi\\Repos\\own\\data-science\\studentperfomance.               \u001b[2m               \u001b[0m\n",
       "\u001b[2;36m                    \u001b[0m         To set a different path, run \u001b[32m'%reload_kedro \u001b[0m\u001b[32m<\u001b[0m\u001b[32mproject_root\u001b[0m\u001b[32m>\u001b[0m\u001b[32m'\u001b[0m            \u001b[2m               \u001b[0m\n"
      ]
     },
     "metadata": {},
     "output_type": "display_data"
    },
    {
     "data": {
      "text/html": [
       "<pre style=\"white-space:pre;overflow-x:auto;line-height:normal;font-family:Menlo,'DejaVu Sans Mono',consolas,'Courier New',monospace\"><span style=\"color: #7fbfbf; text-decoration-color: #7fbfbf\">[11/30/24 18:18:33] </span><span style=\"color: #000080; text-decoration-color: #000080\">INFO    </span> Kedro is sending anonymous usage data with the sole purpose of improving <a href=\"file://C:\\Users\\michi\\anaconda3\\envs\\autogluon-env\\Lib\\site-packages\\kedro_telemetry\\plugin.py\" target=\"_blank\"><span style=\"color: #7f7f7f; text-decoration-color: #7f7f7f\">plugin.py</span></a><span style=\"color: #7f7f7f; text-decoration-color: #7f7f7f\">:</span><a href=\"file://C:\\Users\\michi\\anaconda3\\envs\\autogluon-env\\Lib\\site-packages\\kedro_telemetry\\plugin.py#233\" target=\"_blank\"><span style=\"color: #7f7f7f; text-decoration-color: #7f7f7f\">233</span></a>\n",
       "<span style=\"color: #7fbfbf; text-decoration-color: #7fbfbf\">                    </span>         the product. No personal data or IP addresses are stored on our side. If <span style=\"color: #7f7f7f; text-decoration-color: #7f7f7f\">             </span>\n",
       "<span style=\"color: #7fbfbf; text-decoration-color: #7fbfbf\">                    </span>         you want to opt out, set the `KEDRO_DISABLE_TELEMETRY` or `DO_NOT_TRACK` <span style=\"color: #7f7f7f; text-decoration-color: #7f7f7f\">             </span>\n",
       "<span style=\"color: #7fbfbf; text-decoration-color: #7fbfbf\">                    </span>         environment variables, or create a `.telemetry` file in the current      <span style=\"color: #7f7f7f; text-decoration-color: #7f7f7f\">             </span>\n",
       "<span style=\"color: #7fbfbf; text-decoration-color: #7fbfbf\">                    </span>         working directory with the contents `consent: false`. Read more at       <span style=\"color: #7f7f7f; text-decoration-color: #7f7f7f\">             </span>\n",
       "<span style=\"color: #7fbfbf; text-decoration-color: #7fbfbf\">                    </span>         <span style=\"color: #0000ff; text-decoration-color: #0000ff; text-decoration: underline\">https://docs.kedro.org/en/stable/configuration/telemetry.html</span>            <span style=\"color: #7f7f7f; text-decoration-color: #7f7f7f\">             </span>\n",
       "</pre>\n"
      ],
      "text/plain": [
       "\u001b[2;36m[11/30/24 18:18:33]\u001b[0m\u001b[2;36m \u001b[0m\u001b[34mINFO    \u001b[0m Kedro is sending anonymous usage data with the sole purpose of improving \u001b]8;id=843629;file://C:\\Users\\michi\\anaconda3\\envs\\autogluon-env\\Lib\\site-packages\\kedro_telemetry\\plugin.py\u001b\\\u001b[2mplugin.py\u001b[0m\u001b]8;;\u001b\\\u001b[2m:\u001b[0m\u001b]8;id=753046;file://C:\\Users\\michi\\anaconda3\\envs\\autogluon-env\\Lib\\site-packages\\kedro_telemetry\\plugin.py#233\u001b\\\u001b[2m233\u001b[0m\u001b]8;;\u001b\\\n",
       "\u001b[2;36m                    \u001b[0m         the product. No personal data or IP addresses are stored on our side. If \u001b[2m             \u001b[0m\n",
       "\u001b[2;36m                    \u001b[0m         you want to opt out, set the `KEDRO_DISABLE_TELEMETRY` or `DO_NOT_TRACK` \u001b[2m             \u001b[0m\n",
       "\u001b[2;36m                    \u001b[0m         environment variables, or create a `.telemetry` file in the current      \u001b[2m             \u001b[0m\n",
       "\u001b[2;36m                    \u001b[0m         working directory with the contents `consent: false`. Read more at       \u001b[2m             \u001b[0m\n",
       "\u001b[2;36m                    \u001b[0m         \u001b[4;94mhttps://docs.kedro.org/en/stable/configuration/telemetry.html\u001b[0m            \u001b[2m             \u001b[0m\n"
      ]
     },
     "metadata": {},
     "output_type": "display_data"
    },
    {
     "data": {
      "text/html": [
       "<pre style=\"white-space:pre;overflow-x:auto;line-height:normal;font-family:Menlo,'DejaVu Sans Mono',consolas,'Courier New',monospace\"><span style=\"color: #7fbfbf; text-decoration-color: #7fbfbf\">[11/30/24 18:18:34] </span><span style=\"color: #000080; text-decoration-color: #000080\">INFO    </span> Kedro project studentperfomance                                        <a href=\"file://C:\\Users\\michi\\anaconda3\\envs\\autogluon-env\\Lib\\site-packages\\kedro\\ipython\\__init__.py\" target=\"_blank\"><span style=\"color: #7f7f7f; text-decoration-color: #7f7f7f\">__init__.py</span></a><span style=\"color: #7f7f7f; text-decoration-color: #7f7f7f\">:</span><a href=\"file://C:\\Users\\michi\\anaconda3\\envs\\autogluon-env\\Lib\\site-packages\\kedro\\ipython\\__init__.py#144\" target=\"_blank\"><span style=\"color: #7f7f7f; text-decoration-color: #7f7f7f\">144</span></a>\n",
       "</pre>\n"
      ],
      "text/plain": [
       "\u001b[2;36m[11/30/24 18:18:34]\u001b[0m\u001b[2;36m \u001b[0m\u001b[34mINFO    \u001b[0m Kedro project studentperfomance                                        \u001b]8;id=236762;file://C:\\Users\\michi\\anaconda3\\envs\\autogluon-env\\Lib\\site-packages\\kedro\\ipython\\__init__.py\u001b\\\u001b[2m__init__.py\u001b[0m\u001b]8;;\u001b\\\u001b[2m:\u001b[0m\u001b]8;id=559427;file://C:\\Users\\michi\\anaconda3\\envs\\autogluon-env\\Lib\\site-packages\\kedro\\ipython\\__init__.py#144\u001b\\\u001b[2m144\u001b[0m\u001b]8;;\u001b\\\n"
      ]
     },
     "metadata": {},
     "output_type": "display_data"
    },
    {
     "data": {
      "text/html": [
       "<pre style=\"white-space:pre;overflow-x:auto;line-height:normal;font-family:Menlo,'DejaVu Sans Mono',consolas,'Courier New',monospace\"><span style=\"color: #7fbfbf; text-decoration-color: #7fbfbf\">                    </span><span style=\"color: #000080; text-decoration-color: #000080\">INFO    </span> Defined global variable <span style=\"color: #008000; text-decoration-color: #008000\">'context'</span>, <span style=\"color: #008000; text-decoration-color: #008000\">'session'</span>, <span style=\"color: #008000; text-decoration-color: #008000\">'catalog'</span> and            <a href=\"file://C:\\Users\\michi\\anaconda3\\envs\\autogluon-env\\Lib\\site-packages\\kedro\\ipython\\__init__.py\" target=\"_blank\"><span style=\"color: #7f7f7f; text-decoration-color: #7f7f7f\">__init__.py</span></a><span style=\"color: #7f7f7f; text-decoration-color: #7f7f7f\">:</span><a href=\"file://C:\\Users\\michi\\anaconda3\\envs\\autogluon-env\\Lib\\site-packages\\kedro\\ipython\\__init__.py#145\" target=\"_blank\"><span style=\"color: #7f7f7f; text-decoration-color: #7f7f7f\">145</span></a>\n",
       "<span style=\"color: #7fbfbf; text-decoration-color: #7fbfbf\">                    </span>         <span style=\"color: #008000; text-decoration-color: #008000\">'pipelines'</span>                                                            <span style=\"color: #7f7f7f; text-decoration-color: #7f7f7f\">               </span>\n",
       "</pre>\n"
      ],
      "text/plain": [
       "\u001b[2;36m                   \u001b[0m\u001b[2;36m \u001b[0m\u001b[34mINFO    \u001b[0m Defined global variable \u001b[32m'context'\u001b[0m, \u001b[32m'session'\u001b[0m, \u001b[32m'catalog'\u001b[0m and            \u001b]8;id=961974;file://C:\\Users\\michi\\anaconda3\\envs\\autogluon-env\\Lib\\site-packages\\kedro\\ipython\\__init__.py\u001b\\\u001b[2m__init__.py\u001b[0m\u001b]8;;\u001b\\\u001b[2m:\u001b[0m\u001b]8;id=939556;file://C:\\Users\\michi\\anaconda3\\envs\\autogluon-env\\Lib\\site-packages\\kedro\\ipython\\__init__.py#145\u001b\\\u001b[2m145\u001b[0m\u001b]8;;\u001b\\\n",
       "\u001b[2;36m                    \u001b[0m         \u001b[32m'pipelines'\u001b[0m                                                            \u001b[2m               \u001b[0m\n"
      ]
     },
     "metadata": {},
     "output_type": "display_data"
    },
    {
     "data": {
      "text/html": [
       "<pre style=\"white-space:pre;overflow-x:auto;line-height:normal;font-family:Menlo,'DejaVu Sans Mono',consolas,'Courier New',monospace\"><span style=\"color: #7fbfbf; text-decoration-color: #7fbfbf\">                    </span><span style=\"color: #000080; text-decoration-color: #000080\">INFO    </span> Registered line magic <span style=\"color: #008000; text-decoration-color: #008000\">'run_viz'</span>                                        <a href=\"file://C:\\Users\\michi\\anaconda3\\envs\\autogluon-env\\Lib\\site-packages\\kedro\\ipython\\__init__.py\" target=\"_blank\"><span style=\"color: #7f7f7f; text-decoration-color: #7f7f7f\">__init__.py</span></a><span style=\"color: #7f7f7f; text-decoration-color: #7f7f7f\">:</span><a href=\"file://C:\\Users\\michi\\anaconda3\\envs\\autogluon-env\\Lib\\site-packages\\kedro\\ipython\\__init__.py#151\" target=\"_blank\"><span style=\"color: #7f7f7f; text-decoration-color: #7f7f7f\">151</span></a>\n",
       "</pre>\n"
      ],
      "text/plain": [
       "\u001b[2;36m                   \u001b[0m\u001b[2;36m \u001b[0m\u001b[34mINFO    \u001b[0m Registered line magic \u001b[32m'run_viz'\u001b[0m                                        \u001b]8;id=496464;file://C:\\Users\\michi\\anaconda3\\envs\\autogluon-env\\Lib\\site-packages\\kedro\\ipython\\__init__.py\u001b\\\u001b[2m__init__.py\u001b[0m\u001b]8;;\u001b\\\u001b[2m:\u001b[0m\u001b]8;id=978047;file://C:\\Users\\michi\\anaconda3\\envs\\autogluon-env\\Lib\\site-packages\\kedro\\ipython\\__init__.py#151\u001b\\\u001b[2m151\u001b[0m\u001b]8;;\u001b\\\n"
      ]
     },
     "metadata": {},
     "output_type": "display_data"
    }
   ],
   "source": [
    "%reload_kedro"
   ]
  },
  {
   "cell_type": "code",
   "execution_count": 2,
   "id": "4581fce0-3c68-476d-ab91-44c78de9f87b",
   "metadata": {},
   "outputs": [
    {
     "name": "stdout",
     "output_type": "stream",
     "text": [
      "Running data_science_prep pipeline...\n"
     ]
    },
    {
     "data": {
      "text/html": [
       "<pre style=\"white-space:pre;overflow-x:auto;line-height:normal;font-family:Menlo,'DejaVu Sans Mono',consolas,'Courier New',monospace\"><span style=\"color: #7fbfbf; text-decoration-color: #7fbfbf\">[11/30/24 18:18:39] </span><span style=\"color: #000080; text-decoration-color: #000080\">INFO    </span> Kedro project studentperfomance                                         <a href=\"file://C:\\Users\\michi\\anaconda3\\envs\\autogluon-env\\Lib\\site-packages\\kedro\\framework\\session\\session.py\" target=\"_blank\"><span style=\"color: #7f7f7f; text-decoration-color: #7f7f7f\">session.py</span></a><span style=\"color: #7f7f7f; text-decoration-color: #7f7f7f\">:</span><a href=\"file://C:\\Users\\michi\\anaconda3\\envs\\autogluon-env\\Lib\\site-packages\\kedro\\framework\\session\\session.py#329\" target=\"_blank\"><span style=\"color: #7f7f7f; text-decoration-color: #7f7f7f\">329</span></a>\n",
       "</pre>\n"
      ],
      "text/plain": [
       "\u001b[2;36m[11/30/24 18:18:39]\u001b[0m\u001b[2;36m \u001b[0m\u001b[34mINFO    \u001b[0m Kedro project studentperfomance                                         \u001b]8;id=754254;file://C:\\Users\\michi\\anaconda3\\envs\\autogluon-env\\Lib\\site-packages\\kedro\\framework\\session\\session.py\u001b\\\u001b[2msession.py\u001b[0m\u001b]8;;\u001b\\\u001b[2m:\u001b[0m\u001b]8;id=765636;file://C:\\Users\\michi\\anaconda3\\envs\\autogluon-env\\Lib\\site-packages\\kedro\\framework\\session\\session.py#329\u001b\\\u001b[2m329\u001b[0m\u001b]8;;\u001b\\\n"
      ]
     },
     "metadata": {},
     "output_type": "display_data"
    },
    {
     "data": {
      "text/html": [
       "<pre style=\"white-space:pre;overflow-x:auto;line-height:normal;font-family:Menlo,'DejaVu Sans Mono',consolas,'Courier New',monospace\"><span style=\"color: #7fbfbf; text-decoration-color: #7fbfbf\">                    </span><span style=\"color: #000080; text-decoration-color: #000080\">INFO    </span> Kedro is sending anonymous usage data with the sole purpose of improving <a href=\"file://C:\\Users\\michi\\anaconda3\\envs\\autogluon-env\\Lib\\site-packages\\kedro_telemetry\\plugin.py\" target=\"_blank\"><span style=\"color: #7f7f7f; text-decoration-color: #7f7f7f\">plugin.py</span></a><span style=\"color: #7f7f7f; text-decoration-color: #7f7f7f\">:</span><a href=\"file://C:\\Users\\michi\\anaconda3\\envs\\autogluon-env\\Lib\\site-packages\\kedro_telemetry\\plugin.py#233\" target=\"_blank\"><span style=\"color: #7f7f7f; text-decoration-color: #7f7f7f\">233</span></a>\n",
       "<span style=\"color: #7fbfbf; text-decoration-color: #7fbfbf\">                    </span>         the product. No personal data or IP addresses are stored on our side. If <span style=\"color: #7f7f7f; text-decoration-color: #7f7f7f\">             </span>\n",
       "<span style=\"color: #7fbfbf; text-decoration-color: #7fbfbf\">                    </span>         you want to opt out, set the `KEDRO_DISABLE_TELEMETRY` or `DO_NOT_TRACK` <span style=\"color: #7f7f7f; text-decoration-color: #7f7f7f\">             </span>\n",
       "<span style=\"color: #7fbfbf; text-decoration-color: #7fbfbf\">                    </span>         environment variables, or create a `.telemetry` file in the current      <span style=\"color: #7f7f7f; text-decoration-color: #7f7f7f\">             </span>\n",
       "<span style=\"color: #7fbfbf; text-decoration-color: #7fbfbf\">                    </span>         working directory with the contents `consent: false`. Read more at       <span style=\"color: #7f7f7f; text-decoration-color: #7f7f7f\">             </span>\n",
       "<span style=\"color: #7fbfbf; text-decoration-color: #7fbfbf\">                    </span>         <span style=\"color: #0000ff; text-decoration-color: #0000ff; text-decoration: underline\">https://docs.kedro.org/en/stable/configuration/telemetry.html</span>            <span style=\"color: #7f7f7f; text-decoration-color: #7f7f7f\">             </span>\n",
       "</pre>\n"
      ],
      "text/plain": [
       "\u001b[2;36m                   \u001b[0m\u001b[2;36m \u001b[0m\u001b[34mINFO    \u001b[0m Kedro is sending anonymous usage data with the sole purpose of improving \u001b]8;id=930757;file://C:\\Users\\michi\\anaconda3\\envs\\autogluon-env\\Lib\\site-packages\\kedro_telemetry\\plugin.py\u001b\\\u001b[2mplugin.py\u001b[0m\u001b]8;;\u001b\\\u001b[2m:\u001b[0m\u001b]8;id=857469;file://C:\\Users\\michi\\anaconda3\\envs\\autogluon-env\\Lib\\site-packages\\kedro_telemetry\\plugin.py#233\u001b\\\u001b[2m233\u001b[0m\u001b]8;;\u001b\\\n",
       "\u001b[2;36m                    \u001b[0m         the product. No personal data or IP addresses are stored on our side. If \u001b[2m             \u001b[0m\n",
       "\u001b[2;36m                    \u001b[0m         you want to opt out, set the `KEDRO_DISABLE_TELEMETRY` or `DO_NOT_TRACK` \u001b[2m             \u001b[0m\n",
       "\u001b[2;36m                    \u001b[0m         environment variables, or create a `.telemetry` file in the current      \u001b[2m             \u001b[0m\n",
       "\u001b[2;36m                    \u001b[0m         working directory with the contents `consent: false`. Read more at       \u001b[2m             \u001b[0m\n",
       "\u001b[2;36m                    \u001b[0m         \u001b[4;94mhttps://docs.kedro.org/en/stable/configuration/telemetry.html\u001b[0m            \u001b[2m             \u001b[0m\n"
      ]
     },
     "metadata": {},
     "output_type": "display_data"
    },
    {
     "data": {
      "text/html": [
       "<pre style=\"white-space:pre;overflow-x:auto;line-height:normal;font-family:Menlo,'DejaVu Sans Mono',consolas,'Courier New',monospace\"><span style=\"color: #7fbfbf; text-decoration-color: #7fbfbf\">[11/30/24 18:18:40] </span><span style=\"color: #000080; text-decoration-color: #000080\">INFO    </span> Using synchronous mode for loading and saving data. Use the    <a href=\"file://C:\\Users\\michi\\anaconda3\\envs\\autogluon-env\\Lib\\site-packages\\kedro\\runner\\sequential_runner.py\" target=\"_blank\"><span style=\"color: #7f7f7f; text-decoration-color: #7f7f7f\">sequential_runner.py</span></a><span style=\"color: #7f7f7f; text-decoration-color: #7f7f7f\">:</span><a href=\"file://C:\\Users\\michi\\anaconda3\\envs\\autogluon-env\\Lib\\site-packages\\kedro\\runner\\sequential_runner.py#68\" target=\"_blank\"><span style=\"color: #7f7f7f; text-decoration-color: #7f7f7f\">68</span></a>\n",
       "<span style=\"color: #7fbfbf; text-decoration-color: #7fbfbf\">                    </span>         --async flag for potential performance gains.                  <span style=\"color: #7f7f7f; text-decoration-color: #7f7f7f\">                       </span>\n",
       "<span style=\"color: #7fbfbf; text-decoration-color: #7fbfbf\">                    </span>         <span style=\"color: #0000ff; text-decoration-color: #0000ff; text-decoration: underline\">https://docs.kedro.org/en/stable/nodes_and_pipelines/run_a_pip</span> <span style=\"color: #7f7f7f; text-decoration-color: #7f7f7f\">                       </span>\n",
       "<span style=\"color: #7fbfbf; text-decoration-color: #7fbfbf\">                    </span>         <span style=\"color: #0000ff; text-decoration-color: #0000ff; text-decoration: underline\">eline.html#load-and-save-asynchronously</span>                        <span style=\"color: #7f7f7f; text-decoration-color: #7f7f7f\">                       </span>\n",
       "</pre>\n"
      ],
      "text/plain": [
       "\u001b[2;36m[11/30/24 18:18:40]\u001b[0m\u001b[2;36m \u001b[0m\u001b[34mINFO    \u001b[0m Using synchronous mode for loading and saving data. Use the    \u001b]8;id=403127;file://C:\\Users\\michi\\anaconda3\\envs\\autogluon-env\\Lib\\site-packages\\kedro\\runner\\sequential_runner.py\u001b\\\u001b[2msequential_runner.py\u001b[0m\u001b]8;;\u001b\\\u001b[2m:\u001b[0m\u001b]8;id=838353;file://C:\\Users\\michi\\anaconda3\\envs\\autogluon-env\\Lib\\site-packages\\kedro\\runner\\sequential_runner.py#68\u001b\\\u001b[2m68\u001b[0m\u001b]8;;\u001b\\\n",
       "\u001b[2;36m                    \u001b[0m         --async flag for potential performance gains.                  \u001b[2m                       \u001b[0m\n",
       "\u001b[2;36m                    \u001b[0m         \u001b[4;94mhttps://docs.kedro.org/en/stable/nodes_and_pipelines/run_a_pip\u001b[0m \u001b[2m                       \u001b[0m\n",
       "\u001b[2;36m                    \u001b[0m         \u001b[4;94meline.html#load-and-save-asynchronously\u001b[0m                        \u001b[2m                       \u001b[0m\n"
      ]
     },
     "metadata": {},
     "output_type": "display_data"
    },
    {
     "data": {
      "text/html": [
       "<pre style=\"white-space:pre;overflow-x:auto;line-height:normal;font-family:Menlo,'DejaVu Sans Mono',consolas,'Courier New',monospace\"><span style=\"color: #7fbfbf; text-decoration-color: #7fbfbf\">                    </span><span style=\"color: #000080; text-decoration-color: #000080\">INFO    </span> Loading data from <span style=\"color: #ff8700; text-decoration-color: #ff8700\">student_performance_factors_preprocessed</span>         <a href=\"file://C:\\Users\\michi\\anaconda3\\envs\\autogluon-env\\Lib\\site-packages\\kedro\\io\\data_catalog.py\" target=\"_blank\"><span style=\"color: #7f7f7f; text-decoration-color: #7f7f7f\">data_catalog.py</span></a><span style=\"color: #7f7f7f; text-decoration-color: #7f7f7f\">:</span><a href=\"file://C:\\Users\\michi\\anaconda3\\envs\\autogluon-env\\Lib\\site-packages\\kedro\\io\\data_catalog.py#389\" target=\"_blank\"><span style=\"color: #7f7f7f; text-decoration-color: #7f7f7f\">389</span></a>\n",
       "<span style=\"color: #7fbfbf; text-decoration-color: #7fbfbf\">                    </span>         <span style=\"font-weight: bold\">(</span>CSVDataset<span style=\"font-weight: bold\">)</span><span style=\"color: #808000; text-decoration-color: #808000\">...</span>                                                    <span style=\"color: #7f7f7f; text-decoration-color: #7f7f7f\">                   </span>\n",
       "</pre>\n"
      ],
      "text/plain": [
       "\u001b[2;36m                   \u001b[0m\u001b[2;36m \u001b[0m\u001b[34mINFO    \u001b[0m Loading data from \u001b[38;5;208mstudent_performance_factors_preprocessed\u001b[0m         \u001b]8;id=629546;file://C:\\Users\\michi\\anaconda3\\envs\\autogluon-env\\Lib\\site-packages\\kedro\\io\\data_catalog.py\u001b\\\u001b[2mdata_catalog.py\u001b[0m\u001b]8;;\u001b\\\u001b[2m:\u001b[0m\u001b]8;id=907014;file://C:\\Users\\michi\\anaconda3\\envs\\autogluon-env\\Lib\\site-packages\\kedro\\io\\data_catalog.py#389\u001b\\\u001b[2m389\u001b[0m\u001b]8;;\u001b\\\n",
       "\u001b[2;36m                    \u001b[0m         \u001b[1m(\u001b[0mCSVDataset\u001b[1m)\u001b[0m\u001b[33m...\u001b[0m                                                    \u001b[2m                   \u001b[0m\n"
      ]
     },
     "metadata": {},
     "output_type": "display_data"
    },
    {
     "data": {
      "text/html": [
       "<pre style=\"white-space:pre;overflow-x:auto;line-height:normal;font-family:Menlo,'DejaVu Sans Mono',consolas,'Courier New',monospace\"><span style=\"color: #7fbfbf; text-decoration-color: #7fbfbf\">                    </span><span style=\"color: #000080; text-decoration-color: #000080\">INFO    </span> Running node: split_data_node:                                             <a href=\"file://C:\\Users\\michi\\anaconda3\\envs\\autogluon-env\\Lib\\site-packages\\kedro\\pipeline\\node.py\" target=\"_blank\"><span style=\"color: #7f7f7f; text-decoration-color: #7f7f7f\">node.py</span></a><span style=\"color: #7f7f7f; text-decoration-color: #7f7f7f\">:</span><a href=\"file://C:\\Users\\michi\\anaconda3\\envs\\autogluon-env\\Lib\\site-packages\\kedro\\pipeline\\node.py#367\" target=\"_blank\"><span style=\"color: #7f7f7f; text-decoration-color: #7f7f7f\">367</span></a>\n",
       "<span style=\"color: #7fbfbf; text-decoration-color: #7fbfbf\">                    </span>         <span style=\"color: #800080; text-decoration-color: #800080; font-weight: bold\">split_data</span><span style=\"font-weight: bold\">([</span>student_performance_factors_preprocessed<span style=\"font-weight: bold\">])</span> -&gt;                  <span style=\"color: #7f7f7f; text-decoration-color: #7f7f7f\">           </span>\n",
       "<span style=\"color: #7fbfbf; text-decoration-color: #7fbfbf\">                    </span>         <span style=\"font-weight: bold\">[</span>student_performance_factors_train_data;student_performance_factors_test_d <span style=\"color: #7f7f7f; text-decoration-color: #7f7f7f\">           </span>\n",
       "<span style=\"color: #7fbfbf; text-decoration-color: #7fbfbf\">                    </span>         ata<span style=\"font-weight: bold\">]</span>                                                                       <span style=\"color: #7f7f7f; text-decoration-color: #7f7f7f\">           </span>\n",
       "</pre>\n"
      ],
      "text/plain": [
       "\u001b[2;36m                   \u001b[0m\u001b[2;36m \u001b[0m\u001b[34mINFO    \u001b[0m Running node: split_data_node:                                             \u001b]8;id=832666;file://C:\\Users\\michi\\anaconda3\\envs\\autogluon-env\\Lib\\site-packages\\kedro\\pipeline\\node.py\u001b\\\u001b[2mnode.py\u001b[0m\u001b]8;;\u001b\\\u001b[2m:\u001b[0m\u001b]8;id=716701;file://C:\\Users\\michi\\anaconda3\\envs\\autogluon-env\\Lib\\site-packages\\kedro\\pipeline\\node.py#367\u001b\\\u001b[2m367\u001b[0m\u001b]8;;\u001b\\\n",
       "\u001b[2;36m                    \u001b[0m         \u001b[1;35msplit_data\u001b[0m\u001b[1m(\u001b[0m\u001b[1m[\u001b[0mstudent_performance_factors_preprocessed\u001b[1m]\u001b[0m\u001b[1m)\u001b[0m ->                  \u001b[2m           \u001b[0m\n",
       "\u001b[2;36m                    \u001b[0m         \u001b[1m[\u001b[0mstudent_performance_factors_train_data;student_performance_factors_test_d \u001b[2m           \u001b[0m\n",
       "\u001b[2;36m                    \u001b[0m         ata\u001b[1m]\u001b[0m                                                                       \u001b[2m           \u001b[0m\n"
      ]
     },
     "metadata": {},
     "output_type": "display_data"
    },
    {
     "data": {
      "text/html": [
       "<pre style=\"white-space:pre;overflow-x:auto;line-height:normal;font-family:Menlo,'DejaVu Sans Mono',consolas,'Courier New',monospace\"><span style=\"color: #7fbfbf; text-decoration-color: #7fbfbf\">                    </span><span style=\"color: #000080; text-decoration-color: #000080\">INFO    </span> Saving data to <span style=\"color: #ff8700; text-decoration-color: #ff8700\">student_performance_factors_train_data</span>              <a href=\"file://C:\\Users\\michi\\anaconda3\\envs\\autogluon-env\\Lib\\site-packages\\kedro\\io\\data_catalog.py\" target=\"_blank\"><span style=\"color: #7f7f7f; text-decoration-color: #7f7f7f\">data_catalog.py</span></a><span style=\"color: #7f7f7f; text-decoration-color: #7f7f7f\">:</span><a href=\"file://C:\\Users\\michi\\anaconda3\\envs\\autogluon-env\\Lib\\site-packages\\kedro\\io\\data_catalog.py#431\" target=\"_blank\"><span style=\"color: #7f7f7f; text-decoration-color: #7f7f7f\">431</span></a>\n",
       "<span style=\"color: #7fbfbf; text-decoration-color: #7fbfbf\">                    </span>         <span style=\"font-weight: bold\">(</span>CSVDataset<span style=\"font-weight: bold\">)</span><span style=\"color: #808000; text-decoration-color: #808000\">...</span>                                                    <span style=\"color: #7f7f7f; text-decoration-color: #7f7f7f\">                   </span>\n",
       "</pre>\n"
      ],
      "text/plain": [
       "\u001b[2;36m                   \u001b[0m\u001b[2;36m \u001b[0m\u001b[34mINFO    \u001b[0m Saving data to \u001b[38;5;208mstudent_performance_factors_train_data\u001b[0m              \u001b]8;id=161143;file://C:\\Users\\michi\\anaconda3\\envs\\autogluon-env\\Lib\\site-packages\\kedro\\io\\data_catalog.py\u001b\\\u001b[2mdata_catalog.py\u001b[0m\u001b]8;;\u001b\\\u001b[2m:\u001b[0m\u001b]8;id=854514;file://C:\\Users\\michi\\anaconda3\\envs\\autogluon-env\\Lib\\site-packages\\kedro\\io\\data_catalog.py#431\u001b\\\u001b[2m431\u001b[0m\u001b]8;;\u001b\\\n",
       "\u001b[2;36m                    \u001b[0m         \u001b[1m(\u001b[0mCSVDataset\u001b[1m)\u001b[0m\u001b[33m...\u001b[0m                                                    \u001b[2m                   \u001b[0m\n"
      ]
     },
     "metadata": {},
     "output_type": "display_data"
    },
    {
     "data": {
      "text/html": [
       "<pre style=\"white-space:pre;overflow-x:auto;line-height:normal;font-family:Menlo,'DejaVu Sans Mono',consolas,'Courier New',monospace\"><span style=\"color: #7fbfbf; text-decoration-color: #7fbfbf\">[11/30/24 18:18:41] </span><span style=\"color: #000080; text-decoration-color: #000080\">INFO    </span> Saving data to <span style=\"color: #ff8700; text-decoration-color: #ff8700\">student_performance_factors_test_data</span>               <a href=\"file://C:\\Users\\michi\\anaconda3\\envs\\autogluon-env\\Lib\\site-packages\\kedro\\io\\data_catalog.py\" target=\"_blank\"><span style=\"color: #7f7f7f; text-decoration-color: #7f7f7f\">data_catalog.py</span></a><span style=\"color: #7f7f7f; text-decoration-color: #7f7f7f\">:</span><a href=\"file://C:\\Users\\michi\\anaconda3\\envs\\autogluon-env\\Lib\\site-packages\\kedro\\io\\data_catalog.py#431\" target=\"_blank\"><span style=\"color: #7f7f7f; text-decoration-color: #7f7f7f\">431</span></a>\n",
       "<span style=\"color: #7fbfbf; text-decoration-color: #7fbfbf\">                    </span>         <span style=\"font-weight: bold\">(</span>CSVDataset<span style=\"font-weight: bold\">)</span><span style=\"color: #808000; text-decoration-color: #808000\">...</span>                                                    <span style=\"color: #7f7f7f; text-decoration-color: #7f7f7f\">                   </span>\n",
       "</pre>\n"
      ],
      "text/plain": [
       "\u001b[2;36m[11/30/24 18:18:41]\u001b[0m\u001b[2;36m \u001b[0m\u001b[34mINFO    \u001b[0m Saving data to \u001b[38;5;208mstudent_performance_factors_test_data\u001b[0m               \u001b]8;id=625238;file://C:\\Users\\michi\\anaconda3\\envs\\autogluon-env\\Lib\\site-packages\\kedro\\io\\data_catalog.py\u001b\\\u001b[2mdata_catalog.py\u001b[0m\u001b]8;;\u001b\\\u001b[2m:\u001b[0m\u001b]8;id=680819;file://C:\\Users\\michi\\anaconda3\\envs\\autogluon-env\\Lib\\site-packages\\kedro\\io\\data_catalog.py#431\u001b\\\u001b[2m431\u001b[0m\u001b]8;;\u001b\\\n",
       "\u001b[2;36m                    \u001b[0m         \u001b[1m(\u001b[0mCSVDataset\u001b[1m)\u001b[0m\u001b[33m...\u001b[0m                                                    \u001b[2m                   \u001b[0m\n"
      ]
     },
     "metadata": {},
     "output_type": "display_data"
    },
    {
     "data": {
      "text/html": [
       "<pre style=\"white-space:pre;overflow-x:auto;line-height:normal;font-family:Menlo,'DejaVu Sans Mono',consolas,'Courier New',monospace\"><span style=\"color: #7fbfbf; text-decoration-color: #7fbfbf\">                    </span><span style=\"color: #000080; text-decoration-color: #000080\">INFO    </span> Completed <span style=\"color: #008080; text-decoration-color: #008080; font-weight: bold\">1</span> out of <span style=\"color: #008080; text-decoration-color: #008080; font-weight: bold\">1</span> tasks                                     <a href=\"file://C:\\Users\\michi\\anaconda3\\envs\\autogluon-env\\Lib\\site-packages\\kedro\\runner\\sequential_runner.py\" target=\"_blank\"><span style=\"color: #7f7f7f; text-decoration-color: #7f7f7f\">sequential_runner.py</span></a><span style=\"color: #7f7f7f; text-decoration-color: #7f7f7f\">:</span><a href=\"file://C:\\Users\\michi\\anaconda3\\envs\\autogluon-env\\Lib\\site-packages\\kedro\\runner\\sequential_runner.py#93\" target=\"_blank\"><span style=\"color: #7f7f7f; text-decoration-color: #7f7f7f\">93</span></a>\n",
       "</pre>\n"
      ],
      "text/plain": [
       "\u001b[2;36m                   \u001b[0m\u001b[2;36m \u001b[0m\u001b[34mINFO    \u001b[0m Completed \u001b[1;36m1\u001b[0m out of \u001b[1;36m1\u001b[0m tasks                                     \u001b]8;id=28499;file://C:\\Users\\michi\\anaconda3\\envs\\autogluon-env\\Lib\\site-packages\\kedro\\runner\\sequential_runner.py\u001b\\\u001b[2msequential_runner.py\u001b[0m\u001b]8;;\u001b\\\u001b[2m:\u001b[0m\u001b]8;id=649728;file://C:\\Users\\michi\\anaconda3\\envs\\autogluon-env\\Lib\\site-packages\\kedro\\runner\\sequential_runner.py#93\u001b\\\u001b[2m93\u001b[0m\u001b]8;;\u001b\\\n"
      ]
     },
     "metadata": {},
     "output_type": "display_data"
    },
    {
     "data": {
      "text/html": [
       "<pre style=\"white-space:pre;overflow-x:auto;line-height:normal;font-family:Menlo,'DejaVu Sans Mono',consolas,'Courier New',monospace\"><span style=\"color: #7fbfbf; text-decoration-color: #7fbfbf\">                    </span><span style=\"color: #000080; text-decoration-color: #000080\">INFO    </span> Pipeline execution completed successfully.                               <a href=\"file://C:\\Users\\michi\\anaconda3\\envs\\autogluon-env\\Lib\\site-packages\\kedro\\runner\\runner.py\" target=\"_blank\"><span style=\"color: #7f7f7f; text-decoration-color: #7f7f7f\">runner.py</span></a><span style=\"color: #7f7f7f; text-decoration-color: #7f7f7f\">:</span><a href=\"file://C:\\Users\\michi\\anaconda3\\envs\\autogluon-env\\Lib\\site-packages\\kedro\\runner\\runner.py#115\" target=\"_blank\"><span style=\"color: #7f7f7f; text-decoration-color: #7f7f7f\">115</span></a>\n",
       "</pre>\n"
      ],
      "text/plain": [
       "\u001b[2;36m                   \u001b[0m\u001b[2;36m \u001b[0m\u001b[34mINFO    \u001b[0m Pipeline execution completed successfully.                               \u001b]8;id=493996;file://C:\\Users\\michi\\anaconda3\\envs\\autogluon-env\\Lib\\site-packages\\kedro\\runner\\runner.py\u001b\\\u001b[2mrunner.py\u001b[0m\u001b]8;;\u001b\\\u001b[2m:\u001b[0m\u001b]8;id=785829;file://C:\\Users\\michi\\anaconda3\\envs\\autogluon-env\\Lib\\site-packages\\kedro\\runner\\runner.py#115\u001b\\\u001b[2m115\u001b[0m\u001b]8;;\u001b\\\n"
      ]
     },
     "metadata": {},
     "output_type": "display_data"
    },
    {
     "name": "stdout",
     "output_type": "stream",
     "text": [
      "Loading datasets...\n"
     ]
    },
    {
     "data": {
      "text/html": [
       "<pre style=\"white-space:pre;overflow-x:auto;line-height:normal;font-family:Menlo,'DejaVu Sans Mono',consolas,'Courier New',monospace\"><span style=\"color: #7fbfbf; text-decoration-color: #7fbfbf\">                    </span><span style=\"color: #000080; text-decoration-color: #000080\">INFO    </span> Loading data from <span style=\"color: #ff8700; text-decoration-color: #ff8700\">student_performance_factors_train_data</span>           <a href=\"file://C:\\Users\\michi\\anaconda3\\envs\\autogluon-env\\Lib\\site-packages\\kedro\\io\\data_catalog.py\" target=\"_blank\"><span style=\"color: #7f7f7f; text-decoration-color: #7f7f7f\">data_catalog.py</span></a><span style=\"color: #7f7f7f; text-decoration-color: #7f7f7f\">:</span><a href=\"file://C:\\Users\\michi\\anaconda3\\envs\\autogluon-env\\Lib\\site-packages\\kedro\\io\\data_catalog.py#389\" target=\"_blank\"><span style=\"color: #7f7f7f; text-decoration-color: #7f7f7f\">389</span></a>\n",
       "<span style=\"color: #7fbfbf; text-decoration-color: #7fbfbf\">                    </span>         <span style=\"font-weight: bold\">(</span>CSVDataset<span style=\"font-weight: bold\">)</span><span style=\"color: #808000; text-decoration-color: #808000\">...</span>                                                    <span style=\"color: #7f7f7f; text-decoration-color: #7f7f7f\">                   </span>\n",
       "</pre>\n"
      ],
      "text/plain": [
       "\u001b[2;36m                   \u001b[0m\u001b[2;36m \u001b[0m\u001b[34mINFO    \u001b[0m Loading data from \u001b[38;5;208mstudent_performance_factors_train_data\u001b[0m           \u001b]8;id=265929;file://C:\\Users\\michi\\anaconda3\\envs\\autogluon-env\\Lib\\site-packages\\kedro\\io\\data_catalog.py\u001b\\\u001b[2mdata_catalog.py\u001b[0m\u001b]8;;\u001b\\\u001b[2m:\u001b[0m\u001b]8;id=188655;file://C:\\Users\\michi\\anaconda3\\envs\\autogluon-env\\Lib\\site-packages\\kedro\\io\\data_catalog.py#389\u001b\\\u001b[2m389\u001b[0m\u001b]8;;\u001b\\\n",
       "\u001b[2;36m                    \u001b[0m         \u001b[1m(\u001b[0mCSVDataset\u001b[1m)\u001b[0m\u001b[33m...\u001b[0m                                                    \u001b[2m                   \u001b[0m\n"
      ]
     },
     "metadata": {},
     "output_type": "display_data"
    },
    {
     "data": {
      "text/html": [
       "<pre style=\"white-space:pre;overflow-x:auto;line-height:normal;font-family:Menlo,'DejaVu Sans Mono',consolas,'Courier New',monospace\"><span style=\"color: #7fbfbf; text-decoration-color: #7fbfbf\">                    </span><span style=\"color: #000080; text-decoration-color: #000080\">INFO    </span> Loading data from <span style=\"color: #ff8700; text-decoration-color: #ff8700\">student_performance_factors_test_data</span>            <a href=\"file://C:\\Users\\michi\\anaconda3\\envs\\autogluon-env\\Lib\\site-packages\\kedro\\io\\data_catalog.py\" target=\"_blank\"><span style=\"color: #7f7f7f; text-decoration-color: #7f7f7f\">data_catalog.py</span></a><span style=\"color: #7f7f7f; text-decoration-color: #7f7f7f\">:</span><a href=\"file://C:\\Users\\michi\\anaconda3\\envs\\autogluon-env\\Lib\\site-packages\\kedro\\io\\data_catalog.py#389\" target=\"_blank\"><span style=\"color: #7f7f7f; text-decoration-color: #7f7f7f\">389</span></a>\n",
       "<span style=\"color: #7fbfbf; text-decoration-color: #7fbfbf\">                    </span>         <span style=\"font-weight: bold\">(</span>CSVDataset<span style=\"font-weight: bold\">)</span><span style=\"color: #808000; text-decoration-color: #808000\">...</span>                                                    <span style=\"color: #7f7f7f; text-decoration-color: #7f7f7f\">                   </span>\n",
       "</pre>\n"
      ],
      "text/plain": [
       "\u001b[2;36m                   \u001b[0m\u001b[2;36m \u001b[0m\u001b[34mINFO    \u001b[0m Loading data from \u001b[38;5;208mstudent_performance_factors_test_data\u001b[0m            \u001b]8;id=594824;file://C:\\Users\\michi\\anaconda3\\envs\\autogluon-env\\Lib\\site-packages\\kedro\\io\\data_catalog.py\u001b\\\u001b[2mdata_catalog.py\u001b[0m\u001b]8;;\u001b\\\u001b[2m:\u001b[0m\u001b]8;id=67381;file://C:\\Users\\michi\\anaconda3\\envs\\autogluon-env\\Lib\\site-packages\\kedro\\io\\data_catalog.py#389\u001b\\\u001b[2m389\u001b[0m\u001b]8;;\u001b\\\n",
       "\u001b[2;36m                    \u001b[0m         \u001b[1m(\u001b[0mCSVDataset\u001b[1m)\u001b[0m\u001b[33m...\u001b[0m                                                    \u001b[2m                   \u001b[0m\n"
      ]
     },
     "metadata": {},
     "output_type": "display_data"
    },
    {
     "name": "stdout",
     "output_type": "stream",
     "text": [
      "Training Data:\n"
     ]
    },
    {
     "data": {
      "text/html": [
       "<pre style=\"white-space:pre;overflow-x:auto;line-height:normal;font-family:Menlo,'DejaVu Sans Mono',consolas,'Courier New',monospace\"></pre>\n"
      ],
      "text/plain": []
     },
     "metadata": {},
     "output_type": "display_data"
    },
    {
     "data": {
      "text/html": [
       "<div>\n",
       "<style scoped>\n",
       "    .dataframe tbody tr th:only-of-type {\n",
       "        vertical-align: middle;\n",
       "    }\n",
       "\n",
       "    .dataframe tbody tr th {\n",
       "        vertical-align: top;\n",
       "    }\n",
       "\n",
       "    .dataframe thead th {\n",
       "        text-align: right;\n",
       "    }\n",
       "</style>\n",
       "<table border=\"1\" class=\"dataframe\">\n",
       "  <thead>\n",
       "    <tr style=\"text-align: right;\">\n",
       "      <th></th>\n",
       "      <th>Hours_Studied</th>\n",
       "      <th>Attendance</th>\n",
       "      <th>Parental_Involvement</th>\n",
       "      <th>Access_to_Resources</th>\n",
       "      <th>Extracurricular_Activities</th>\n",
       "      <th>Sleep_Hours</th>\n",
       "      <th>Previous_Scores</th>\n",
       "      <th>Motivation_Level</th>\n",
       "      <th>Internet_Access</th>\n",
       "      <th>Tutoring_Sessions</th>\n",
       "      <th>Family_Income</th>\n",
       "      <th>Teacher_Quality</th>\n",
       "      <th>School_Type</th>\n",
       "      <th>Peer_Influence</th>\n",
       "      <th>Physical_Activity</th>\n",
       "      <th>Learning_Disabilities</th>\n",
       "      <th>Parental_Education_Level</th>\n",
       "      <th>Distance_from_Home</th>\n",
       "      <th>Gender</th>\n",
       "      <th>Exam_Score</th>\n",
       "    </tr>\n",
       "  </thead>\n",
       "  <tbody>\n",
       "    <tr>\n",
       "      <th>0</th>\n",
       "      <td>13</td>\n",
       "      <td>97</td>\n",
       "      <td>Medium</td>\n",
       "      <td>Medium</td>\n",
       "      <td>Yes</td>\n",
       "      <td>8</td>\n",
       "      <td>81</td>\n",
       "      <td>Medium</td>\n",
       "      <td>Yes</td>\n",
       "      <td>3</td>\n",
       "      <td>Low</td>\n",
       "      <td>Medium</td>\n",
       "      <td>Public</td>\n",
       "      <td>Neutral</td>\n",
       "      <td>1</td>\n",
       "      <td>No</td>\n",
       "      <td>High School</td>\n",
       "      <td>Far</td>\n",
       "      <td>Male</td>\n",
       "      <td>68</td>\n",
       "    </tr>\n",
       "    <tr>\n",
       "      <th>1</th>\n",
       "      <td>10</td>\n",
       "      <td>81</td>\n",
       "      <td>Medium</td>\n",
       "      <td>Low</td>\n",
       "      <td>Yes</td>\n",
       "      <td>7</td>\n",
       "      <td>85</td>\n",
       "      <td>Low</td>\n",
       "      <td>Yes</td>\n",
       "      <td>1</td>\n",
       "      <td>Low</td>\n",
       "      <td>Medium</td>\n",
       "      <td>Public</td>\n",
       "      <td>Neutral</td>\n",
       "      <td>2</td>\n",
       "      <td>No</td>\n",
       "      <td>College</td>\n",
       "      <td>Near</td>\n",
       "      <td>Male</td>\n",
       "      <td>63</td>\n",
       "    </tr>\n",
       "    <tr>\n",
       "      <th>2</th>\n",
       "      <td>17</td>\n",
       "      <td>79</td>\n",
       "      <td>Medium</td>\n",
       "      <td>High</td>\n",
       "      <td>Yes</td>\n",
       "      <td>8</td>\n",
       "      <td>84</td>\n",
       "      <td>Medium</td>\n",
       "      <td>Yes</td>\n",
       "      <td>0</td>\n",
       "      <td>Medium</td>\n",
       "      <td>Medium</td>\n",
       "      <td>Public</td>\n",
       "      <td>Neutral</td>\n",
       "      <td>2</td>\n",
       "      <td>No</td>\n",
       "      <td>High School</td>\n",
       "      <td>Moderate</td>\n",
       "      <td>Male</td>\n",
       "      <td>66</td>\n",
       "    </tr>\n",
       "    <tr>\n",
       "      <th>3</th>\n",
       "      <td>16</td>\n",
       "      <td>86</td>\n",
       "      <td>Low</td>\n",
       "      <td>Medium</td>\n",
       "      <td>Yes</td>\n",
       "      <td>8</td>\n",
       "      <td>63</td>\n",
       "      <td>Medium</td>\n",
       "      <td>Yes</td>\n",
       "      <td>2</td>\n",
       "      <td>Medium</td>\n",
       "      <td>Medium</td>\n",
       "      <td>Public</td>\n",
       "      <td>Positive</td>\n",
       "      <td>4</td>\n",
       "      <td>No</td>\n",
       "      <td>High School</td>\n",
       "      <td>Near</td>\n",
       "      <td>Male</td>\n",
       "      <td>67</td>\n",
       "    </tr>\n",
       "    <tr>\n",
       "      <th>4</th>\n",
       "      <td>24</td>\n",
       "      <td>88</td>\n",
       "      <td>High</td>\n",
       "      <td>Medium</td>\n",
       "      <td>Yes</td>\n",
       "      <td>6</td>\n",
       "      <td>87</td>\n",
       "      <td>Medium</td>\n",
       "      <td>Yes</td>\n",
       "      <td>1</td>\n",
       "      <td>High</td>\n",
       "      <td>Low</td>\n",
       "      <td>Private</td>\n",
       "      <td>Positive</td>\n",
       "      <td>3</td>\n",
       "      <td>No</td>\n",
       "      <td>High School</td>\n",
       "      <td>Near</td>\n",
       "      <td>Female</td>\n",
       "      <td>72</td>\n",
       "    </tr>\n",
       "  </tbody>\n",
       "</table>\n",
       "</div>"
      ],
      "text/plain": [
       "\n",
       "   Hours_Studied  Attendance Parental_Involvement Access_to_Resources  \\\n",
       "\u001b[1;36m0\u001b[0m             \u001b[1;36m13\u001b[0m          \u001b[1;36m97\u001b[0m               Medium              Medium   \n",
       "\u001b[1;36m1\u001b[0m             \u001b[1;36m10\u001b[0m          \u001b[1;36m81\u001b[0m               Medium                 Low   \n",
       "\u001b[1;36m2\u001b[0m             \u001b[1;36m17\u001b[0m          \u001b[1;36m79\u001b[0m               Medium                High   \n",
       "\u001b[1;36m3\u001b[0m             \u001b[1;36m16\u001b[0m          \u001b[1;36m86\u001b[0m                  Low              Medium   \n",
       "\u001b[1;36m4\u001b[0m             \u001b[1;36m24\u001b[0m          \u001b[1;36m88\u001b[0m                 High              Medium   \n",
       "\n",
       "  Extracurricular_Activities  Sleep_Hours  Previous_Scores Motivation_Level  \\\n",
       "\u001b[1;36m0\u001b[0m                        Yes            \u001b[1;36m8\u001b[0m               \u001b[1;36m81\u001b[0m           Medium   \n",
       "\u001b[1;36m1\u001b[0m                        Yes            \u001b[1;36m7\u001b[0m               \u001b[1;36m85\u001b[0m              Low   \n",
       "\u001b[1;36m2\u001b[0m                        Yes            \u001b[1;36m8\u001b[0m               \u001b[1;36m84\u001b[0m           Medium   \n",
       "\u001b[1;36m3\u001b[0m                        Yes            \u001b[1;36m8\u001b[0m               \u001b[1;36m63\u001b[0m           Medium   \n",
       "\u001b[1;36m4\u001b[0m                        Yes            \u001b[1;36m6\u001b[0m               \u001b[1;36m87\u001b[0m           Medium   \n",
       "\n",
       "  Internet_Access  Tutoring_Sessions Family_Income Teacher_Quality  \\\n",
       "\u001b[1;36m0\u001b[0m             Yes                  \u001b[1;36m3\u001b[0m           Low          Medium   \n",
       "\u001b[1;36m1\u001b[0m             Yes                  \u001b[1;36m1\u001b[0m           Low          Medium   \n",
       "\u001b[1;36m2\u001b[0m             Yes                  \u001b[1;36m0\u001b[0m        Medium          Medium   \n",
       "\u001b[1;36m3\u001b[0m             Yes                  \u001b[1;36m2\u001b[0m        Medium          Medium   \n",
       "\u001b[1;36m4\u001b[0m             Yes                  \u001b[1;36m1\u001b[0m          High             Low   \n",
       "\n",
       "  School_Type Peer_Influence  Physical_Activity Learning_Disabilities  \\\n",
       "\u001b[1;36m0\u001b[0m      Public        Neutral                  \u001b[1;36m1\u001b[0m                    No   \n",
       "\u001b[1;36m1\u001b[0m      Public        Neutral                  \u001b[1;36m2\u001b[0m                    No   \n",
       "\u001b[1;36m2\u001b[0m      Public        Neutral                  \u001b[1;36m2\u001b[0m                    No   \n",
       "\u001b[1;36m3\u001b[0m      Public       Positive                  \u001b[1;36m4\u001b[0m                    No   \n",
       "\u001b[1;36m4\u001b[0m     Private       Positive                  \u001b[1;36m3\u001b[0m                    No   \n",
       "\n",
       "  Parental_Education_Level Distance_from_Home  Gender  Exam_Score  \n",
       "\u001b[1;36m0\u001b[0m              High School                Far    Male          \u001b[1;36m68\u001b[0m  \n",
       "\u001b[1;36m1\u001b[0m                  College               Near    Male          \u001b[1;36m63\u001b[0m  \n",
       "\u001b[1;36m2\u001b[0m              High School           Moderate    Male          \u001b[1;36m66\u001b[0m  \n",
       "\u001b[1;36m3\u001b[0m              High School               Near    Male          \u001b[1;36m67\u001b[0m  \n",
       "\u001b[1;36m4\u001b[0m              High School               Near  Female          \u001b[1;36m72\u001b[0m  "
      ]
     },
     "metadata": {},
     "output_type": "display_data"
    },
    {
     "name": "stdout",
     "output_type": "stream",
     "text": [
      "\n",
      "Test Data:\n"
     ]
    },
    {
     "data": {
      "text/html": [
       "<pre style=\"white-space:pre;overflow-x:auto;line-height:normal;font-family:Menlo,'DejaVu Sans Mono',consolas,'Courier New',monospace\"></pre>\n"
      ],
      "text/plain": []
     },
     "metadata": {},
     "output_type": "display_data"
    },
    {
     "data": {
      "text/html": [
       "<div>\n",
       "<style scoped>\n",
       "    .dataframe tbody tr th:only-of-type {\n",
       "        vertical-align: middle;\n",
       "    }\n",
       "\n",
       "    .dataframe tbody tr th {\n",
       "        vertical-align: top;\n",
       "    }\n",
       "\n",
       "    .dataframe thead th {\n",
       "        text-align: right;\n",
       "    }\n",
       "</style>\n",
       "<table border=\"1\" class=\"dataframe\">\n",
       "  <thead>\n",
       "    <tr style=\"text-align: right;\">\n",
       "      <th></th>\n",
       "      <th>Hours_Studied</th>\n",
       "      <th>Attendance</th>\n",
       "      <th>Parental_Involvement</th>\n",
       "      <th>Access_to_Resources</th>\n",
       "      <th>Extracurricular_Activities</th>\n",
       "      <th>Sleep_Hours</th>\n",
       "      <th>Previous_Scores</th>\n",
       "      <th>Motivation_Level</th>\n",
       "      <th>Internet_Access</th>\n",
       "      <th>Tutoring_Sessions</th>\n",
       "      <th>Family_Income</th>\n",
       "      <th>Teacher_Quality</th>\n",
       "      <th>School_Type</th>\n",
       "      <th>Peer_Influence</th>\n",
       "      <th>Physical_Activity</th>\n",
       "      <th>Learning_Disabilities</th>\n",
       "      <th>Parental_Education_Level</th>\n",
       "      <th>Distance_from_Home</th>\n",
       "      <th>Gender</th>\n",
       "      <th>Exam_Score</th>\n",
       "    </tr>\n",
       "  </thead>\n",
       "  <tbody>\n",
       "    <tr>\n",
       "      <th>0</th>\n",
       "      <td>31</td>\n",
       "      <td>96</td>\n",
       "      <td>High</td>\n",
       "      <td>High</td>\n",
       "      <td>Yes</td>\n",
       "      <td>9</td>\n",
       "      <td>65</td>\n",
       "      <td>High</td>\n",
       "      <td>Yes</td>\n",
       "      <td>0</td>\n",
       "      <td>Low</td>\n",
       "      <td>Medium</td>\n",
       "      <td>Private</td>\n",
       "      <td>Positive</td>\n",
       "      <td>2</td>\n",
       "      <td>No</td>\n",
       "      <td>High School</td>\n",
       "      <td>Far</td>\n",
       "      <td>Male</td>\n",
       "      <td>74</td>\n",
       "    </tr>\n",
       "    <tr>\n",
       "      <th>1</th>\n",
       "      <td>13</td>\n",
       "      <td>84</td>\n",
       "      <td>Medium</td>\n",
       "      <td>Medium</td>\n",
       "      <td>Yes</td>\n",
       "      <td>9</td>\n",
       "      <td>94</td>\n",
       "      <td>Medium</td>\n",
       "      <td>Yes</td>\n",
       "      <td>3</td>\n",
       "      <td>Medium</td>\n",
       "      <td>Medium</td>\n",
       "      <td>Public</td>\n",
       "      <td>Negative</td>\n",
       "      <td>2</td>\n",
       "      <td>Yes</td>\n",
       "      <td>High School</td>\n",
       "      <td>Near</td>\n",
       "      <td>Male</td>\n",
       "      <td>66</td>\n",
       "    </tr>\n",
       "    <tr>\n",
       "      <th>2</th>\n",
       "      <td>27</td>\n",
       "      <td>83</td>\n",
       "      <td>Medium</td>\n",
       "      <td>Medium</td>\n",
       "      <td>Yes</td>\n",
       "      <td>9</td>\n",
       "      <td>76</td>\n",
       "      <td>Medium</td>\n",
       "      <td>Yes</td>\n",
       "      <td>1</td>\n",
       "      <td>Low</td>\n",
       "      <td>High</td>\n",
       "      <td>Public</td>\n",
       "      <td>Positive</td>\n",
       "      <td>4</td>\n",
       "      <td>No</td>\n",
       "      <td>High School</td>\n",
       "      <td>Near</td>\n",
       "      <td>Male</td>\n",
       "      <td>70</td>\n",
       "    </tr>\n",
       "    <tr>\n",
       "      <th>3</th>\n",
       "      <td>20</td>\n",
       "      <td>97</td>\n",
       "      <td>High</td>\n",
       "      <td>Medium</td>\n",
       "      <td>Yes</td>\n",
       "      <td>7</td>\n",
       "      <td>94</td>\n",
       "      <td>High</td>\n",
       "      <td>Yes</td>\n",
       "      <td>1</td>\n",
       "      <td>Medium</td>\n",
       "      <td>Medium</td>\n",
       "      <td>Public</td>\n",
       "      <td>Negative</td>\n",
       "      <td>1</td>\n",
       "      <td>No</td>\n",
       "      <td>College</td>\n",
       "      <td>Moderate</td>\n",
       "      <td>Male</td>\n",
       "      <td>72</td>\n",
       "    </tr>\n",
       "    <tr>\n",
       "      <th>4</th>\n",
       "      <td>17</td>\n",
       "      <td>76</td>\n",
       "      <td>Medium</td>\n",
       "      <td>High</td>\n",
       "      <td>Yes</td>\n",
       "      <td>8</td>\n",
       "      <td>95</td>\n",
       "      <td>Low</td>\n",
       "      <td>Yes</td>\n",
       "      <td>1</td>\n",
       "      <td>Low</td>\n",
       "      <td>Medium</td>\n",
       "      <td>Private</td>\n",
       "      <td>Neutral</td>\n",
       "      <td>4</td>\n",
       "      <td>No</td>\n",
       "      <td>Postgraduate</td>\n",
       "      <td>Near</td>\n",
       "      <td>Female</td>\n",
       "      <td>67</td>\n",
       "    </tr>\n",
       "  </tbody>\n",
       "</table>\n",
       "</div>"
      ],
      "text/plain": [
       "\n",
       "   Hours_Studied  Attendance Parental_Involvement Access_to_Resources  \\\n",
       "\u001b[1;36m0\u001b[0m             \u001b[1;36m31\u001b[0m          \u001b[1;36m96\u001b[0m                 High                High   \n",
       "\u001b[1;36m1\u001b[0m             \u001b[1;36m13\u001b[0m          \u001b[1;36m84\u001b[0m               Medium              Medium   \n",
       "\u001b[1;36m2\u001b[0m             \u001b[1;36m27\u001b[0m          \u001b[1;36m83\u001b[0m               Medium              Medium   \n",
       "\u001b[1;36m3\u001b[0m             \u001b[1;36m20\u001b[0m          \u001b[1;36m97\u001b[0m                 High              Medium   \n",
       "\u001b[1;36m4\u001b[0m             \u001b[1;36m17\u001b[0m          \u001b[1;36m76\u001b[0m               Medium                High   \n",
       "\n",
       "  Extracurricular_Activities  Sleep_Hours  Previous_Scores Motivation_Level  \\\n",
       "\u001b[1;36m0\u001b[0m                        Yes            \u001b[1;36m9\u001b[0m               \u001b[1;36m65\u001b[0m             High   \n",
       "\u001b[1;36m1\u001b[0m                        Yes            \u001b[1;36m9\u001b[0m               \u001b[1;36m94\u001b[0m           Medium   \n",
       "\u001b[1;36m2\u001b[0m                        Yes            \u001b[1;36m9\u001b[0m               \u001b[1;36m76\u001b[0m           Medium   \n",
       "\u001b[1;36m3\u001b[0m                        Yes            \u001b[1;36m7\u001b[0m               \u001b[1;36m94\u001b[0m             High   \n",
       "\u001b[1;36m4\u001b[0m                        Yes            \u001b[1;36m8\u001b[0m               \u001b[1;36m95\u001b[0m              Low   \n",
       "\n",
       "  Internet_Access  Tutoring_Sessions Family_Income Teacher_Quality  \\\n",
       "\u001b[1;36m0\u001b[0m             Yes                  \u001b[1;36m0\u001b[0m           Low          Medium   \n",
       "\u001b[1;36m1\u001b[0m             Yes                  \u001b[1;36m3\u001b[0m        Medium          Medium   \n",
       "\u001b[1;36m2\u001b[0m             Yes                  \u001b[1;36m1\u001b[0m           Low            High   \n",
       "\u001b[1;36m3\u001b[0m             Yes                  \u001b[1;36m1\u001b[0m        Medium          Medium   \n",
       "\u001b[1;36m4\u001b[0m             Yes                  \u001b[1;36m1\u001b[0m           Low          Medium   \n",
       "\n",
       "  School_Type Peer_Influence  Physical_Activity Learning_Disabilities  \\\n",
       "\u001b[1;36m0\u001b[0m     Private       Positive                  \u001b[1;36m2\u001b[0m                    No   \n",
       "\u001b[1;36m1\u001b[0m      Public       Negative                  \u001b[1;36m2\u001b[0m                   Yes   \n",
       "\u001b[1;36m2\u001b[0m      Public       Positive                  \u001b[1;36m4\u001b[0m                    No   \n",
       "\u001b[1;36m3\u001b[0m      Public       Negative                  \u001b[1;36m1\u001b[0m                    No   \n",
       "\u001b[1;36m4\u001b[0m     Private        Neutral                  \u001b[1;36m4\u001b[0m                    No   \n",
       "\n",
       "  Parental_Education_Level Distance_from_Home  Gender  Exam_Score  \n",
       "\u001b[1;36m0\u001b[0m              High School                Far    Male          \u001b[1;36m74\u001b[0m  \n",
       "\u001b[1;36m1\u001b[0m              High School               Near    Male          \u001b[1;36m66\u001b[0m  \n",
       "\u001b[1;36m2\u001b[0m              High School               Near    Male          \u001b[1;36m70\u001b[0m  \n",
       "\u001b[1;36m3\u001b[0m                  College           Moderate    Male          \u001b[1;36m72\u001b[0m  \n",
       "\u001b[1;36m4\u001b[0m             Postgraduate               Near  Female          \u001b[1;36m67\u001b[0m  "
      ]
     },
     "metadata": {},
     "output_type": "display_data"
    },
    {
     "name": "stdout",
     "output_type": "stream",
     "text": [
      "\n",
      "Training Data Shape: (5740, 20)\n",
      "Test Data Shape: (638, 20)\n"
     ]
    }
   ],
   "source": [
    "# Load Kedro Context\n",
    "from pathlib import Path\n",
    "import pandas as pd\n",
    "\n",
    "# Step 1: Run the `data_science_prep` pipeline to ensure the train/test splits are generated\n",
    "print(\"Running data_science_prep pipeline...\")\n",
    "session.run(\"data_science_prep\")\n",
    "\n",
    "# Step 2: Load the datasets generated by the pipeline\n",
    "print(\"Loading datasets...\")\n",
    "train_data = catalog.load(\"student_performance_factors_train_data\")\n",
    "test_data = catalog.load(\"student_performance_factors_test_data\")\n",
    "\n",
    "# Step 3: Visualize training data\n",
    "print(\"Training Data:\")\n",
    "display(train_data.head())\n",
    "\n",
    "# Step 4: Visualize test data\n",
    "print(\"\\nTest Data:\")\n",
    "display(test_data.head())\n",
    "\n",
    "# Step 5: Compare dataset shapes\n",
    "print(f\"\\nTraining Data Shape: {train_data.shape}\")\n",
    "print(f\"Test Data Shape: {test_data.shape}\")\n",
    "\n",
    "# Step 6: Analyze distribution of target variable (if applicable)\n",
    "target_column = \"parameters:label_column\"  # Replace with your actual target column name\n",
    "\n",
    "if target_column in train_data.columns:\n",
    "    print(\"\\nTarget Distribution in Training Data:\")\n",
    "    print(train_data[target_column].value_counts())\n",
    "\n",
    "if target_column in test_data.columns:\n",
    "    print(\"\\nTarget Distribution in Test Data:\")\n",
    "    print(test_data[target_column].value_counts())\n"
   ]
  },
  {
   "cell_type": "code",
   "execution_count": 6,
   "id": "04e4a1bf-eb55-4592-b894-29a3f0caaec3",
   "metadata": {},
   "outputs": [
    {
     "data": {
      "text/html": [
       "<pre style=\"white-space:pre;overflow-x:auto;line-height:normal;font-family:Menlo,'DejaVu Sans Mono',consolas,'Courier New',monospace\"></pre>\n"
      ],
      "text/plain": []
     },
     "metadata": {},
     "output_type": "display_data"
    },
    {
     "data": {
      "text/html": [
       "<a href=\"http://127.0.0.1:4142/\" target=\"_blank\">Open Kedro-Viz</a>"
      ],
      "text/plain": [
       "\u001b[1m<\u001b[0m\u001b[1;95mIPython.core.display.HTML\u001b[0m\u001b[39m object\u001b[0m\u001b[1m>\u001b[0m"
      ]
     },
     "metadata": {},
     "output_type": "display_data"
    }
   ],
   "source": [
    "%run_viz"
   ]
  },
  {
   "cell_type": "code",
   "execution_count": null,
   "id": "dd0cfeea-086b-4326-9ba3-cac715c745a7",
   "metadata": {},
   "outputs": [],
   "source": []
  }
 ],
 "metadata": {
  "kernelspec": {
   "display_name": "Kedro (studentperfomance)",
   "language": "python",
   "name": "kedro_studentperfomance"
  },
  "language_info": {
   "codemirror_mode": {
    "name": "ipython",
    "version": 3
   },
   "file_extension": ".py",
   "mimetype": "text/x-python",
   "name": "python",
   "nbconvert_exporter": "python",
   "pygments_lexer": "ipython3",
   "version": "3.11.10"
  }
 },
 "nbformat": 4,
 "nbformat_minor": 5
}
